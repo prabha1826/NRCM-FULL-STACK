{
 "cells": [
  {
   "cell_type": "code",
   "execution_count": 1,
   "metadata": {},
   "outputs": [
    {
     "name": "stdout",
     "output_type": "stream",
     "text": [
      "3 hours equals to 180 minutes\n"
     ]
    }
   ],
   "source": [
    "# Write a function to hours to minutes , user should able to give hours as input\n",
    "\n",
    "# your Answer\n",
    "\n",
    "def hrstominscalc(x):\n",
    "    y = x*60\n",
    "    print(x,\"hours equals to\",y,\"minutes\")\n",
    "    \n",
    "x=int(input(\"enter the hours\"))\n",
    "hrstominscalc(x)"
   ]
  },
  {
   "cell_type": "code",
   "execution_count": 2,
   "metadata": {},
   "outputs": [
    {
     "name": "stdout",
     "output_type": "stream",
     "text": [
      "2 hours equals to 120 minutes\n"
     ]
    }
   ],
   "source": [
    "hrstominscalc(2)"
   ]
  },
  {
   "cell_type": "code",
   "execution_count": 3,
   "metadata": {},
   "outputs": [
    {
     "name": "stdout",
     "output_type": "stream",
     "text": [
      "200 centimeter euals to 2.0 meters\n"
     ]
    }
   ],
   "source": [
    "# Write a function to convert centimeter to meter , user shoulb be able to give centimeter as input\n",
    "# your Answer\n",
    "def fun(n):\n",
    "    x=n/100\n",
    "    print(n,\"centimeter euals to\",x,\"meters\")\n",
    "\n",
    "n=int(input(\"Enter the centimeter\"))\n",
    "fun(n)\n",
    "\n",
    "\n",
    "\n",
    "\n"
   ]
  },
  {
   "cell_type": "code",
   "execution_count": 4,
   "metadata": {},
   "outputs": [
    {
     "name": "stdout",
     "output_type": "stream",
     "text": [
      "20 miles equals to 32.0 kilometers\n"
     ]
    }
   ],
   "source": [
    "# Write a function to convert miles to Kilometer , user shoulb be able to give miles as input\n",
    "\n",
    "# your Answer\n",
    "def miles(n):\n",
    "    km=n*1.6\n",
    "    print(n,\"miles equals to\",km,\"kilometers\")\n",
    "\n",
    "n=int(input(\"Enter the miles\"))\n",
    "miles(n)\n",
    "\n",
    "\n",
    "\n",
    "\n"
   ]
  },
  {
   "cell_type": "code",
   "execution_count": 5,
   "metadata": {},
   "outputs": [
    {
     "name": "stdout",
     "output_type": "stream",
     "text": [
      "5 pounds equals to 2.27 kilograms\n"
     ]
    }
   ],
   "source": [
    "# Write a function to convert pounds to Kilogram , user shoulb be able to give pounds as input\n",
    "# your Answer\n",
    "def pounds(n):\n",
    "    kg=n*0.454\n",
    "    print(n,\"pounds equals to\",kg,\"kilograms\")\n",
    "\n",
    "n=int(input(\"Enter the pounds\"))\n",
    "pounds(n)\n",
    "\n",
    "\n",
    "\n",
    "\n"
   ]
  },
  {
   "cell_type": "code",
   "execution_count": 6,
   "metadata": {},
   "outputs": [
    {
     "name": "stdout",
     "output_type": "stream",
     "text": [
      "simple interest for 100000 1 2 is 2000.0\n"
     ]
    }
   ],
   "source": [
    "# Write a function to calculate simple interest # all input shoulb be given by the user\n",
    "# your Answer\n",
    "def interest(p,r,t):\n",
    "    si=(p*r*t)/100\n",
    "    print(\"simple interest for\",p,r,t,\"is\",si)\n",
    "\n",
    "p,r,t=map(int,input().split())\n",
    "interest(p,r,t)\n",
    "\n",
    "\n",
    "\n",
    "\n"
   ]
  },
  {
   "cell_type": "code",
   "execution_count": 7,
   "metadata": {},
   "outputs": [
    {
     "name": "stdout",
     "output_type": "stream",
     "text": [
      "Area of circle is 28.285714285714285\n"
     ]
    }
   ],
   "source": [
    "# Write a function to calculate area of circle\n",
    "# your Answer\n",
    "def aoc(r):\n",
    "    s=(22/7)*r*r\n",
    "    print(\"Area of circle is\",s)\n",
    "\n",
    "r=int(input(\"Enter the radius\"))\n",
    "aoc(r)\n",
    "\n",
    "\n",
    "\n",
    "\n"
   ]
  },
  {
   "cell_type": "code",
   "execution_count": 8,
   "metadata": {},
   "outputs": [
    {
     "name": "stdout",
     "output_type": "stream",
     "text": [
      "circumference of circle is 18.857142857142858\n"
     ]
    }
   ],
   "source": [
    "# Write a function to calculate circumference of circle\n",
    "# your Answer\n",
    "def coc(r):\n",
    "    s=2*(22/7)*r\n",
    "    print(\"circumference of circle is\",s)\n",
    "\n",
    "r=int(input(\"Enter the radius\"))\n",
    "coc(r)\n",
    "\n",
    "\n",
    "\n",
    "\n",
    "\n",
    "\n",
    "\n"
   ]
  },
  {
   "cell_type": "code",
   "execution_count": 9,
   "metadata": {},
   "outputs": [
    {
     "name": "stdout",
     "output_type": "stream",
     "text": [
      "Perimeter of square 20\n"
     ]
    }
   ],
   "source": [
    "# Write a function to calculate perimeter of square\n",
    "# your Answer\n",
    "def pos(a):\n",
    "    s=4*a\n",
    "    print(\"Perimeter of square\",s)\n",
    "\n",
    "a=int(input(\"Enter the side of square\"))\n",
    "pos(a)\n",
    "\n",
    "\n",
    "\n"
   ]
  },
  {
   "cell_type": "code",
   "execution_count": 10,
   "metadata": {},
   "outputs": [
    {
     "name": "stdout",
     "output_type": "stream",
     "text": [
      "Area of square 25\n"
     ]
    }
   ],
   "source": [
    "# Write a fucntion to calculate area of square\n",
    "# your Answer\n",
    "\n",
    "def aos(a):\n",
    "    s=a*a\n",
    "    print(\"Area of square\",s)\n",
    "\n",
    "a=int(input(\"Enter the side of square\"))\n",
    "aos(a)\n",
    "\n",
    "\n",
    "\n",
    "\n",
    "\n"
   ]
  },
  {
   "cell_type": "code",
   "execution_count": 11,
   "metadata": {},
   "outputs": [
    {
     "name": "stdout",
     "output_type": "stream",
     "text": [
      "Area of triangle is 9.0\n"
     ]
    }
   ],
   "source": [
    "# Write a function to area of traingle\n",
    "# your Answer\n",
    "def aot(b,h):\n",
    "    t=(1/2)*b*h\n",
    "    print(\"Area of triangle is\",t)\n",
    "\n",
    "b,h=map(int,input().split())\n",
    "aot(b,h)\n",
    "\n",
    "\n",
    "\n",
    "\n"
   ]
  }
 ],
 "metadata": {
  "kernelspec": {
   "display_name": "Python 3",
   "language": "python",
   "name": "python3"
  },
  "language_info": {
   "codemirror_mode": {
    "name": "ipython",
    "version": 3
   },
   "file_extension": ".py",
   "mimetype": "text/x-python",
   "name": "python",
   "nbconvert_exporter": "python",
   "pygments_lexer": "ipython3",
   "version": "3.11.5"
  }
 },
 "nbformat": 4,
 "nbformat_minor": 2
}
