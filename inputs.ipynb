{
 "cells": [
  {
   "cell_type": "code",
   "execution_count": 1,
   "metadata": {},
   "outputs": [
    {
     "name": "stdout",
     "output_type": "stream",
     "text": [
      "120\n"
     ]
    }
   ],
   "source": [
    "# Write a program to hours to minutes , user should able to give hours as input\n",
    "a=int(input(\"Enter the number of hour\"))\n",
    "# your Answer\n",
    "print(a*60)\n"
   ]
  },
  {
   "cell_type": "code",
   "execution_count": 2,
   "metadata": {},
   "outputs": [
    {
     "name": "stdout",
     "output_type": "stream",
     "text": [
      "The meter for above equivalent centerimeter is 2.0\n"
     ]
    }
   ],
   "source": [
    "# Write a program to convert centimeter to meter , user shoulb be able to give centimeter as input\n",
    "a=int(input(\"Enter the centerimeter:\"))\n",
    "# your Answer\n",
    "print(\"The meter for above equivalent centerimeter is\",a/100)\n",
    "\n"
   ]
  },
  {
   "cell_type": "code",
   "execution_count": 3,
   "metadata": {},
   "outputs": [
    {
     "name": "stdout",
     "output_type": "stream",
     "text": [
      "The equivalent kilometer for miles is 16.0\n"
     ]
    }
   ],
   "source": [
    "# Write a program to convert miles to Kilometer , user shoulb be able to give miles as input\n",
    "a=int(input(\"Enter the miles\"))\n",
    "# your Answer\n",
    "print(\"The equivalent kilometer for miles is\",a*1.6)\n",
    "\n",
    "\n",
    "\n",
    "\n"
   ]
  },
  {
   "cell_type": "code",
   "execution_count": 4,
   "metadata": {},
   "outputs": [
    {
     "name": "stdout",
     "output_type": "stream",
     "text": [
      "The equivalent kilogram for pound is 2.27\n"
     ]
    }
   ],
   "source": [
    "# Write a program to convert pounds to Kilogram , user shoulb be able to give pounds as input\n",
    "a=int(input(\"Enter the pounds\"))\n",
    "# your Answer\n",
    "print(\"The equivalent kilogram for pound is\",a*0.454)\n",
    "\n",
    "\n",
    "\n",
    "\n"
   ]
  },
  {
   "cell_type": "code",
   "execution_count": 6,
   "metadata": {},
   "outputs": [
    {
     "name": "stdout",
     "output_type": "stream",
     "text": [
      "simple interest is 4000.0\n"
     ]
    }
   ],
   "source": [
    "# Write a program to calculate simple interest # all input shoulb be given by the user\n",
    "P,R,T=map(int,input().split())\n",
    "# your Answer\n",
    "print(\"simple interest is\",(P*R*T)/100)\n",
    "\n",
    "\n",
    "\n",
    "\n"
   ]
  },
  {
   "cell_type": "code",
   "execution_count": 7,
   "metadata": {},
   "outputs": [
    {
     "name": "stdout",
     "output_type": "stream",
     "text": [
      "Area of circle is 78.57142857142857\n"
     ]
    }
   ],
   "source": [
    "# Write a program to calculate area of circle\n",
    "r=int(input(\"Enter the radius\"))\n",
    "# your Answer\n",
    "print(\"Area of circle is\",(22/7)*r*r)\n",
    "\n",
    "\n",
    "\n",
    "\n"
   ]
  },
  {
   "cell_type": "code",
   "execution_count": 8,
   "metadata": {},
   "outputs": [
    {
     "name": "stdout",
     "output_type": "stream",
     "text": [
      "Circumference of circle is 37.714285714285715\n"
     ]
    }
   ],
   "source": [
    "# Write a program to calculate circumference of circle\n",
    "r=int(input(\"Enter the radius\"))\n",
    "# your Answer\n",
    "print(\"Circumference of circle is\",2*(22/7)*r)\n",
    "\n",
    "\n",
    "\n",
    "\n",
    "\n"
   ]
  },
  {
   "cell_type": "code",
   "execution_count": 11,
   "metadata": {},
   "outputs": [
    {
     "name": "stdout",
     "output_type": "stream",
     "text": [
      "perimeter of square is 20\n"
     ]
    }
   ],
   "source": [
    "# Write a program to calculate perimeter of square\n",
    "a=int(input(\"Enter the size of square\"))\n",
    "# your Answer\n",
    "print(\"perimeter of square is\",4*a)\n",
    "\n",
    "\n",
    "\n",
    "\n"
   ]
  },
  {
   "cell_type": "code",
   "execution_count": 14,
   "metadata": {},
   "outputs": [
    {
     "name": "stdout",
     "output_type": "stream",
     "text": [
      "Area of square is 25\n"
     ]
    }
   ],
   "source": [
    "# Write a program to calculate area of square\n",
    "a=int(input())\n",
    "# your Answer\n",
    "print(\"Area of square is\",a**2)\n",
    "\n",
    "\n",
    "\n",
    "\n"
   ]
  },
  {
   "cell_type": "code",
   "execution_count": 15,
   "metadata": {},
   "outputs": [
    {
     "name": "stdout",
     "output_type": "stream",
     "text": [
      "area of triangle is 9.0\n"
     ]
    }
   ],
   "source": [
    "# Write a program to area of traingle\n",
    "b,h=map(int,input().split())\n",
    "# your Answer\n",
    "print(\"area of triangle is\",(1/2)*b*h)"
   ]
  }
 ],
 "metadata": {
  "kernelspec": {
   "display_name": "Python 3",
   "language": "python",
   "name": "python3"
  },
  "language_info": {
   "codemirror_mode": {
    "name": "ipython",
    "version": 3
   },
   "file_extension": ".py",
   "mimetype": "text/x-python",
   "name": "python",
   "nbconvert_exporter": "python",
   "pygments_lexer": "ipython3",
   "version": "3.11.5"
  }
 },
 "nbformat": 4,
 "nbformat_minor": 2
}
