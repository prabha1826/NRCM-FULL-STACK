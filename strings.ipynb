{
 "cells": [
  {
   "cell_type": "raw",
   "metadata": {},
   "source": [
    "Python Program to Replace all Occurrences of ‘a’ with $ in a String\n",
    "\n",
    "Given String = \"apple\""
   ]
  },
  {
   "cell_type": "code",
   "execution_count": 1,
   "metadata": {},
   "outputs": [
    {
     "name": "stdout",
     "output_type": "stream",
     "text": [
      "$pple\n"
     ]
    }
   ],
   "source": [
    "a = \"apple\"\n",
    "b = a.replace(\"a\",\"$\")\n",
    "print(b)"
   ]
  },
  {
   "cell_type": "raw",
   "metadata": {},
   "source": [
    "2.Python Program to Remove the 5th Index Character from a String"
   ]
  },
  {
   "cell_type": "code",
   "execution_count": 7,
   "metadata": {},
   "outputs": [
    {
     "name": "stdout",
     "output_type": "stream",
     "text": [
      "o\n",
      "r\n",
      "a\n",
      "n\n",
      "g\n",
      "s\n"
     ]
    }
   ],
   "source": [
    "str=\"oranges\"\n",
    "for i in range(len(str)):\n",
    "    if i==5:\n",
    "        continue\n",
    "    else:\n",
    "        print(str[i])\n",
    "\n"
   ]
  },
  {
   "cell_type": "raw",
   "metadata": {},
   "source": [
    "3.Python Program to Form a New String where the First Character and the Last Character have been Exchanged"
   ]
  },
  {
   "cell_type": "code",
   "execution_count": 14,
   "metadata": {},
   "outputs": [
    {
     "name": "stdout",
     "output_type": "stream",
     "text": [
      "roosel\n"
     ]
    }
   ],
   "source": [
    "s=\"looser\"\n",
    "print(s[-1]+s[1:len(s)-1]+s[0])"
   ]
  },
  {
   "cell_type": "raw",
   "metadata": {},
   "source": [
    "4.Python Program to Count the Number of Vowels in a String"
   ]
  },
  {
   "cell_type": "code",
   "execution_count": 17,
   "metadata": {},
   "outputs": [
    {
     "name": "stdout",
     "output_type": "stream",
     "text": [
      "2\n"
     ]
    }
   ],
   "source": [
    "s=\"vowel\"\n",
    "count=0\n",
    "for i in range(len(s)):\n",
    "    if s[i]=='a' or s[i]=='e' or s[i]=='i' or s[i]=='o' or s[i]=='u':\n",
    "        count+=1\n",
    "    else:\n",
    "        continue\n",
    "print(count)"
   ]
  },
  {
   "cell_type": "raw",
   "metadata": {},
   "source": [
    "5.Python Program to Take in a String and Replace Every Blank Space with Hyphen"
   ]
  },
  {
   "cell_type": "code",
   "execution_count": 53,
   "metadata": {},
   "outputs": [
    {
     "name": "stdout",
     "output_type": "stream",
     "text": [
      "I_am_a_coder\n"
     ]
    }
   ],
   "source": [
    "s=input()\n",
    "print(s.replace(\" \",\"_\"))"
   ]
  },
  {
   "cell_type": "raw",
   "metadata": {},
   "source": [
    "6.Python Program to Calculate the Length of a String Without Using a Library Function"
   ]
  },
  {
   "cell_type": "code",
   "execution_count": 18,
   "metadata": {},
   "outputs": [
    {
     "name": "stdout",
     "output_type": "stream",
     "text": [
      "5\n"
     ]
    }
   ],
   "source": [
    "s=\"hello\"\n",
    "count=0\n",
    "for i in range(len(s)):\n",
    "    count+=1\n",
    "print(count)"
   ]
  },
  {
   "cell_type": "raw",
   "metadata": {},
   "source": [
    "7.Python Program to Remove the Characters of Odd Index Values in a String"
   ]
  },
  {
   "cell_type": "code",
   "execution_count": 20,
   "metadata": {},
   "outputs": [
    {
     "name": "stdout",
     "output_type": "stream",
     "text": [
      "h\n",
      "g\n"
     ]
    }
   ],
   "source": [
    "s=\"high\"  \n",
    "for i in range(len(s)):\n",
    "    if i%2==0:\n",
    "        print(s[i])\n",
    "    else:\n",
    "        continue      "
   ]
  },
  {
   "cell_type": "raw",
   "metadata": {},
   "source": [
    "8.Python Program to Calculate the Number of Words and the Number of Characters Present in a String"
   ]
  },
  {
   "cell_type": "code",
   "execution_count": 2,
   "metadata": {},
   "outputs": [
    {
     "name": "stdout",
     "output_type": "stream",
     "text": [
      "The number of words and the number of characters present in a string 2 11\n"
     ]
    }
   ],
   "source": [
    "s=\"hello world\"\n",
    "wc=1\n",
    "if \" \" in s:\n",
    "    wc+=1\n",
    "print(\"The number of words and the number of characters present in a string\",wc,len(s))"
   ]
  },
  {
   "cell_type": "raw",
   "metadata": {},
   "source": [
    "9.Python Program to Take in Two Strings and Display the Larger String without Using Built-in Functions"
   ]
  },
  {
   "cell_type": "code",
   "execution_count": 24,
   "metadata": {},
   "outputs": [
    {
     "name": "stdout",
     "output_type": "stream",
     "text": [
      "hacker\n"
     ]
    }
   ],
   "source": [
    "s1=\"hacker\"\n",
    "s2=\"rank\"\n",
    "c1=0\n",
    "c2=0\n",
    "for i in range(len(s1)):\n",
    "    c1+=1\n",
    "for j in range(len(s2)):\n",
    "    c2+=1\n",
    "if c1>c2:\n",
    "    print(s1)\n",
    "else:\n",
    "    print(s2)\n"
   ]
  },
  {
   "cell_type": "raw",
   "metadata": {},
   "source": [
    "10.Python Program to Count Number of Lowercase Characters in a String"
   ]
  },
  {
   "cell_type": "code",
   "execution_count": 40,
   "metadata": {},
   "outputs": [
    {
     "name": "stdout",
     "output_type": "stream",
     "text": [
      "Number of lowercase characters in a string is 6\n"
     ]
    }
   ],
   "source": [
    "import string\n",
    "lower=string.ascii_lowercase\n",
    "s=\"Code Chef\"\n",
    "l=0\n",
    "for i in range(len(s)):\n",
    "    if s[i] in lower:\n",
    "        l+=1\n",
    "    else:\n",
    "        continue\n",
    "print(\"Number of lowercase characters in a string is\",l)"
   ]
  },
  {
   "cell_type": "raw",
   "metadata": {},
   "source": [
    "11.Python Program to Check if a String is a Palindrome or Not"
   ]
  },
  {
   "cell_type": "code",
   "execution_count": 29,
   "metadata": {},
   "outputs": [
    {
     "name": "stdout",
     "output_type": "stream",
     "text": [
      "palindrome\n"
     ]
    }
   ],
   "source": [
    "s=\"lol\"\n",
    "b=s[::-1]\n",
    "if b==s:\n",
    "    print(\"palindrome\")\n",
    "else:\n",
    "    print(\"Not a palindrome\")"
   ]
  },
  {
   "cell_type": "raw",
   "metadata": {},
   "source": [
    "12.Python Program to Calculate the Number of Upper Case Letters and Lower Case Letters in a String"
   ]
  },
  {
   "cell_type": "code",
   "execution_count": 38,
   "metadata": {},
   "outputs": [
    {
     "name": "stdout",
     "output_type": "stream",
     "text": [
      "The number of Upper case and Lower case letters in a string are 2 6\n"
     ]
    }
   ],
   "source": [
    "import string\n",
    "upper=string.ascii_uppercase\n",
    "lower=string.ascii_lowercase\n",
    "s=\"Leet Code\"\n",
    "u=0\n",
    "l=0\n",
    "for i in range(len(s)):\n",
    "    if s[i] in upper:\n",
    "        u+=1\n",
    "    elif s[i] in lower:\n",
    "        l+=1\n",
    "    else:\n",
    "        continue\n",
    "print(\"The number of Upper case and Lower case letters in a string are\",u,l)"
   ]
  },
  {
   "cell_type": "raw",
   "metadata": {},
   "source": [
    "13.Python Program to Calculate the Number of Digits and Letters in a String"
   ]
  },
  {
   "cell_type": "code",
   "execution_count": 37,
   "metadata": {},
   "outputs": [
    {
     "name": "stdout",
     "output_type": "stream",
     "text": [
      "Number of digits and letters in a string is 4 6\n"
     ]
    }
   ],
   "source": [
    "import string\n",
    "digits=string.digits\n",
    "alphas=string.ascii_letters\n",
    "s=\"prabha1821\"\n",
    "d=0\n",
    "l=0\n",
    "for i in range(len(s)):\n",
    "    if s[i] in digits:\n",
    "        d+=1\n",
    "    elif s[i] in alphas:\n",
    "        l+=1\n",
    "    else:\n",
    "        continue\n",
    "print(\"Number of digits and letters in a string is\",d,l)"
   ]
  },
  {
   "cell_type": "raw",
   "metadata": {},
   "source": [
    "14.Python Program to Form a New String Made of the First 2 and Last 2 characters From a Given String"
   ]
  },
  {
   "cell_type": "code",
   "execution_count": 34,
   "metadata": {},
   "outputs": [
    {
     "name": "stdout",
     "output_type": "stream",
     "text": [
      "haer\n"
     ]
    }
   ],
   "source": [
    "s=\"hacker\"\n",
    "print(s[0:2]+s[len(s)-2:len(s)+1])"
   ]
  },
  {
   "cell_type": "raw",
   "metadata": {},
   "source": [
    "15.Python Program to Count the Occurrences of Each Word in a Given String Sentence\n",
    "\n",
    "\"Everybody is selfish , the ratio diferrs , time to time , person to to person\"\n",
    "\n",
    "count the occurance of \"time\""
   ]
  },
  {
   "cell_type": "code",
   "execution_count": 35,
   "metadata": {},
   "outputs": [
    {
     "name": "stdout",
     "output_type": "stream",
     "text": [
      "2\n"
     ]
    }
   ],
   "source": [
    "str=\"Everybody is selfish,the ratio fiferrs,time to time,person to person\"\n",
    "print(str.count(\"time\"))"
   ]
  }
 ],
 "metadata": {
  "kernelspec": {
   "display_name": "Python 3",
   "language": "python",
   "name": "python3"
  },
  "language_info": {
   "codemirror_mode": {
    "name": "ipython",
    "version": 3
   },
   "file_extension": ".py",
   "mimetype": "text/x-python",
   "name": "python",
   "nbconvert_exporter": "python",
   "pygments_lexer": "ipython3",
   "version": "3.11.5"
  }
 },
 "nbformat": 4,
 "nbformat_minor": 2
}
