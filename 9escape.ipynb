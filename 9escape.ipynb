{
 "cells": [
  {
   "cell_type": "raw",
   "metadata": {},
   "source": [
    "print - \n",
    "\n",
    "Your's Faithfully\n",
    "Expected o/p - Your's Faithfully"
   ]
  },
  {
   "cell_type": "code",
   "execution_count": 2,
   "metadata": {},
   "outputs": [
    {
     "name": "stdout",
     "output_type": "stream",
     "text": [
      "Your's Faithfully\n",
      "Steve Jobs said Innovation distinguishes between a leader and a follower.\n"
     ]
    }
   ],
   "source": [
    "print(\"Your's Faithfully\")\n",
    "print(\"Steve Jobs said Innovation distinguishes between a leader and a follower.\")"
   ]
  },
  {
   "cell_type": "raw",
   "metadata": {},
   "source": [
    "print \n",
    "\n",
    "Steve Jobs said \"Innovation distinguishes between a leader and a follower.\"\n",
    "Expected o/p - Steve Jobs said \"Innovation distinguishes between a leader and a follower.\""
   ]
  }
 ],
 "metadata": {
  "kernelspec": {
   "display_name": "Python 3",
   "language": "python",
   "name": "python3"
  },
  "language_info": {
   "codemirror_mode": {
    "name": "ipython",
    "version": 3
   },
   "file_extension": ".py",
   "mimetype": "text/x-python",
   "name": "python",
   "nbconvert_exporter": "python",
   "pygments_lexer": "ipython3",
   "version": "3.11.5"
  }
 },
 "nbformat": 4,
 "nbformat_minor": 2
}
