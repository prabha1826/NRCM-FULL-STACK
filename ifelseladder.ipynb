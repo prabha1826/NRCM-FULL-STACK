{
 "cells": [
  {
   "cell_type": "raw",
   "metadata": {},
   "source": [
    "Read Five marks tamil,english,maths,science and social and if all marks are greater than 35 , print pass else print fail"
   ]
  },
  {
   "cell_type": "code",
   "execution_count": 6,
   "metadata": {},
   "outputs": [
    {
     "name": "stdout",
     "output_type": "stream",
     "text": [
      "fail\n"
     ]
    }
   ],
   "source": [
    "tamil=int(input())\n",
    "english=int(input())\n",
    "maths=int(input())\n",
    "science=int(input())\n",
    "social=int(input())\n",
    "count=0\n",
    "if tamil>35:\n",
    "    count+=1\n",
    "    if english>35:\n",
    "        count+=1\n",
    "        if maths>35:\n",
    "            count+=1\n",
    "            if science>35:\n",
    "                count+=1\n",
    "                if social>35:\n",
    "                    count+=1\n",
    "if count==5:\n",
    "    print(\"pass\")\n",
    "else:\n",
    "    print(\"fail\")\n"
   ]
  },
  {
   "cell_type": "code",
   "execution_count": null,
   "metadata": {},
   "outputs": [],
   "source": []
  }
 ],
 "metadata": {
  "kernelspec": {
   "display_name": "Python 3",
   "language": "python",
   "name": "python3"
  },
  "language_info": {
   "codemirror_mode": {
    "name": "ipython",
    "version": 3
   },
   "file_extension": ".py",
   "mimetype": "text/x-python",
   "name": "python",
   "nbconvert_exporter": "python",
   "pygments_lexer": "ipython3",
   "version": "3.11.5"
  }
 },
 "nbformat": 4,
 "nbformat_minor": 2
}
